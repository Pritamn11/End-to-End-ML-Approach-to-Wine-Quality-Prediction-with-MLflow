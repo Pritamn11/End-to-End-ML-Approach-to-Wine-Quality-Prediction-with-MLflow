{
 "cells": [
  {
   "cell_type": "code",
   "execution_count": 1,
   "metadata": {},
   "outputs": [
    {
     "data": {
      "text/plain": [
       "'d:\\\\Python Hub\\\\MLOPS\\\\End-to-End-ML-Approach-to-Wine-Quality-Prediction-with-MLflow\\\\research'"
      ]
     },
     "execution_count": 1,
     "metadata": {},
     "output_type": "execute_result"
    }
   ],
   "source": [
    "import os\n",
    "%pwd"
   ]
  },
  {
   "cell_type": "code",
   "execution_count": 2,
   "metadata": {},
   "outputs": [],
   "source": [
    "os.chdir(\"../\")"
   ]
  },
  {
   "cell_type": "code",
   "execution_count": 3,
   "metadata": {},
   "outputs": [
    {
     "data": {
      "text/plain": [
       "'d:\\\\Python Hub\\\\MLOPS\\\\End-to-End-ML-Approach-to-Wine-Quality-Prediction-with-MLflow'"
      ]
     },
     "execution_count": 3,
     "metadata": {},
     "output_type": "execute_result"
    }
   ],
   "source": [
    "%pwd"
   ]
  },
  {
   "cell_type": "code",
   "execution_count": 4,
   "metadata": {},
   "outputs": [],
   "source": [
    "from dataclasses import dataclass \n",
    "from pathlib import Path \n",
    "\n",
    "@dataclass(frozen=True)\n",
    "class DataTransformationConfig:\n",
    "    root_dir: Path \n",
    "    data_path: Path \n",
    "    train: Path\n",
    "    test: Path"
   ]
  },
  {
   "cell_type": "code",
   "execution_count": 5,
   "metadata": {},
   "outputs": [],
   "source": [
    "from MLproject.constants import * \n",
    "from MLproject.utils.common import read_yaml, create_directories"
   ]
  },
  {
   "cell_type": "code",
   "execution_count": 6,
   "metadata": {},
   "outputs": [],
   "source": [
    "class ConfigurationManager:\n",
    "    def __init__(self,\n",
    "                config_filepath = CONFIG_FILE_PATH,\n",
    "                schema_filepath = SCHEMA_FILE_PATH):\n",
    "        \n",
    "        self.config = read_yaml(config_filepath)\n",
    "        self.schema = read_yaml(schema_filepath)\n",
    "\n",
    "        create_directories([self.config.artifacts_root])\n",
    "\n",
    "\n",
    "    def get_data_transformation_config(self) -> DataTransformationConfig:\n",
    "        transformation_config = self.config.data_transformation \n",
    "\n",
    "        create_directories([transformation_config.root_dir]) \n",
    "\n",
    "        data_transformation_config = DataTransformationConfig(\n",
    "            root_dir= transformation_config.root_dir,\n",
    "            data_path= transformation_config.data_path,\n",
    "            train= transformation_config.train,\n",
    "            test= transformation_config.test \n",
    "        )    \n",
    "        \n",
    "        return data_transformation_config"
   ]
  },
  {
   "cell_type": "code",
   "execution_count": 7,
   "metadata": {},
   "outputs": [],
   "source": [
    "import os\n",
    "from MLproject import logger\n",
    "from sklearn.compose import ColumnTransformer\n",
    "from sklearn.pipeline import Pipeline\n",
    "from sklearn.preprocessing import StandardScaler\n",
    "from sklearn.model_selection import train_test_split\n",
    "import pandas as pd\n",
    "import numpy as np"
   ]
  },
  {
   "cell_type": "code",
   "execution_count": 11,
   "metadata": {},
   "outputs": [],
   "source": [
    "class DataTransformation:\n",
    "    def __init__(self, config=DataTransformationConfig):\n",
    "        self.config = config\n",
    "\n",
    "    def get_data_transformation_object(self):\n",
    "        try:\n",
    "            numerical_features = [\n",
    "                \"fixed acidity\",\n",
    "                \"volatile acidity\",\n",
    "                \"citric acid\",\n",
    "                \"residual sugar\",\n",
    "                \"chlorides\",\n",
    "                \"free sulfur dioxide\",\n",
    "                \"total sulfur dioxide\",\n",
    "                \"density\",\n",
    "                \"pH\",\n",
    "                \"sulphates\",\n",
    "                \"alcohol\",\n",
    "            ]\n",
    "\n",
    "            data_transformer = ColumnTransformer(\n",
    "                transformers=[\n",
    "                    (\"standard_scaler\", StandardScaler(), numerical_features),\n",
    "                ]\n",
    "            )\n",
    "\n",
    "            preprocessor = Pipeline(steps=[(\"data_transformer\", data_transformer)])\n",
    "\n",
    "            return preprocessor\n",
    "\n",
    "        except Exception as e:\n",
    "            logger.info(f\"Error in creating data transformation object: {e}\")\n",
    "            raise e\n",
    "\n",
    "    def train_test_split(self):\n",
    "        try:\n",
    "            data = pd.read_csv(self.config.data_path)\n",
    "            logger.info(\"Read the dataset as DataFrame\")\n",
    "\n",
    "            logger.info(\"train test split initiated\")\n",
    "            train_set, test_set = train_test_split(data)\n",
    "\n",
    "            train_set.to_csv(\n",
    "                os.path.join(self.config.root_dir, \"train.csv\"), index=False\n",
    "            )\n",
    "            test_set.to_csv(os.path.join(self.config.root_dir, \"test.csv\"), index=False)\n",
    "\n",
    "            logger.info(\"Splited data into training and test sets\")\n",
    "            logger.info(train_set.shape)\n",
    "            logger.info(test_set.shape)\n",
    "\n",
    "            return (\n",
    "                self.config.train,\n",
    "                self.config.test,\n",
    "            )\n",
    "\n",
    "        except Exception as e:\n",
    "            logger.info(f\"Error in splitting train test sets: {e}\")\n",
    "            raise e\n",
    "\n",
    "    def inititate_data_transformation(self, train_set, test_set):\n",
    "        try:\n",
    "            train_set = pd.read_csv(self.config.train)\n",
    "            test_set = pd.read_csv(self.config.test)\n",
    "\n",
    "            logger.info(\"Reading train and test dataset completed\")\n",
    "            logger.info(\"Obtaining preprocessor object\")\n",
    "\n",
    "            preprocessor_obj = self.get_data_transformation_object()\n",
    "\n",
    "            target_feature = \"quality\"\n",
    "\n",
    "            independent_feature = [\n",
    "                \"fixed acidity\",\n",
    "                \"volatile acidity\",\n",
    "                \"citric acid\",\n",
    "                \"residual sugar\",\n",
    "                \"chlorides\",\n",
    "                \"free sulfur dioxide\",\n",
    "                \"total sulfur dioxide\",\n",
    "                \"density\",\n",
    "                \"pH\",\n",
    "                \"sulphates\",\n",
    "                \"alcohol\",\n",
    "            ]\n",
    "\n",
    "            # Separate features and target\n",
    "            input_train_df = train_set.drop(columns=[target_feature], axis=1)\n",
    "            target_train_df = train_set[target_feature]\n",
    "\n",
    "            input_test_df = test_set.drop(columns=[target_feature], axis=1)\n",
    "            target_test_df = test_set[target_feature]\n",
    "\n",
    "            logger.info(\n",
    "                f\"Applying preprocessing object on training dataframe and test dataframe.\"\n",
    "            )\n",
    "\n",
    "            # Apply preprocessor\n",
    "            train_df = preprocessor_obj.fit_transform(input_train_df)\n",
    "            test_df = preprocessor_obj.transform(input_test_df)\n",
    "\n",
    "            logger.info(\n",
    "                \"successfully applied preprocessor object on train and test data\"\n",
    "            )\n",
    "\n",
    "            # Combine features and target\n",
    "            train_arr = np.c_[train_df, np.array(target_train_df)]\n",
    "\n",
    "            test_arr = np.c_[test_df, np.array(target_test_df)]\n",
    "            logger.info(\"returning train_array and test_array\")\n",
    "            \n",
    "            \n",
    "            logger.info(\"Saving train and test set in numpy file\")\n",
    "            np.save(os.path.join(self.config.root_dir,\"train_arr.npy\"), train_arr)\n",
    "            np.save(os.path.join(self.config.root_dir,\"test_arr.npy\"), test_arr)\n",
    "\n",
    "                \n",
    "            return (\n",
    "            train_arr,\n",
    "            test_arr\n",
    "        )\n",
    "\n",
    "        except Exception as e:\n",
    "            logger.info(f\"Error in initiating data transformation: {e}\")\n",
    "            raise e"
   ]
  },
  {
   "cell_type": "code",
   "execution_count": 13,
   "metadata": {},
   "outputs": [
    {
     "name": "stdout",
     "output_type": "stream",
     "text": [
      "[ 2023-12-27 14:39:46,740:  INFO:  common: 33:  YAML file 'config\\config.yaml' loaded successfully]\n",
      "[ 2023-12-27 14:39:46,746:  INFO:  common: 33:  YAML file 'schema.yaml' loaded successfully]\n",
      "[ 2023-12-27 14:39:46,748:  INFO:  common: 53:  Created directory at : artifacts]\n",
      "[ 2023-12-27 14:39:46,750:  INFO:  common: 53:  Created directory at : artifacts/data_transformation]\n",
      "[ 2023-12-27 14:39:46,760:  INFO:  3471270155: 38:  Read the dataset as DataFrame]\n",
      "[ 2023-12-27 14:39:46,761:  INFO:  3471270155: 40:  train test split initiated]\n",
      "[ 2023-12-27 14:39:46,789:  INFO:  3471270155: 48:  Splited data into training and test sets]\n",
      "[ 2023-12-27 14:39:46,790:  INFO:  3471270155: 49:  (1199, 12)]\n",
      "[ 2023-12-27 14:39:46,791:  INFO:  3471270155: 50:  (400, 12)]\n",
      "[ 2023-12-27 14:39:46,802:  INFO:  3471270155: 66:  Reading train and test dataset completed]\n",
      "[ 2023-12-27 14:39:46,807:  INFO:  3471270155: 67:  Obtaining preprocessor object]\n",
      "[ 2023-12-27 14:39:46,815:  INFO:  3471270155: 94:  Applying preprocessing object on training dataframe and test dataframe.]\n",
      "[ 2023-12-27 14:39:46,829:  INFO:  3471270155: 102:  successfully applied preprocessor object on train and test data]\n",
      "[ 2023-12-27 14:39:46,831:  INFO:  3471270155: 110:  returning train_array and test_array]\n",
      "[ 2023-12-27 14:39:46,834:  INFO:  3471270155: 113:  Saving train and test set in numpy file]\n"
     ]
    }
   ],
   "source": [
    "try:\n",
    "    config = ConfigurationManager()\n",
    "    data_tranformation_config = config.get_data_transformation_config()\n",
    "    data_transformation = DataTransformation(config=data_tranformation_config)\n",
    "    train_data, test_data = data_transformation.train_test_split()\n",
    "    train_arr, test_arr = data_transformation.inititate_data_transformation(train_data, test_data)\n",
    "except Exception as e:\n",
    "    raise e    "
   ]
  },
  {
   "cell_type": "code",
   "execution_count": 16,
   "metadata": {},
   "outputs": [
    {
     "name": "stdout",
     "output_type": "stream",
     "text": [
      "[[-3.72164793e-01  1.85349917e-01 -1.02193966e+00 ... -2.83907298e-03\n",
      "  -7.54136143e-01  6.00000000e+00]\n",
      " [-3.72164793e-01  2.42651010e+00 -9.17190298e-01 ... -9.58361460e-01\n",
      "  -8.47687933e-01  5.00000000e+00]\n",
      " [-8.28369867e-01 -2.02011103e-01 -9.17190298e-01 ... -4.80600266e-01\n",
      "  -1.92825402e-01  6.00000000e+00]\n",
      " ...\n",
      " [-3.72164793e-01  4.06699072e-01 -1.12668902e+00 ... -2.41719670e-01\n",
      "  -2.86377193e-01  6.00000000e+00]\n",
      " [-4.86216062e-01 -7.00046700e-01 -4.98192853e-01 ... -4.80600266e-01\n",
      "  -9.41239724e-01  5.00000000e+00]\n",
      " [-7.14318599e-01  1.01540925e+00 -1.44093710e+00 ... -6.59760714e-01\n",
      "  -9.41239724e-01  5.00000000e+00]]\n"
     ]
    }
   ],
   "source": [
    "file_path = \"artifacts/data_transformation/test_arr.npy\"\n",
    "loaded_array = np.load(file_path)\n",
    "print(loaded_array)"
   ]
  },
  {
   "cell_type": "code",
   "execution_count": null,
   "metadata": {},
   "outputs": [],
   "source": []
  }
 ],
 "metadata": {
  "kernelspec": {
   "display_name": "newenv",
   "language": "python",
   "name": "python3"
  },
  "language_info": {
   "codemirror_mode": {
    "name": "ipython",
    "version": 3
   },
   "file_extension": ".py",
   "mimetype": "text/x-python",
   "name": "python",
   "nbconvert_exporter": "python",
   "pygments_lexer": "ipython3",
   "version": "3.11.6"
  }
 },
 "nbformat": 4,
 "nbformat_minor": 2
}
