{
 "cells": [
  {
   "cell_type": "code",
   "execution_count": 5,
   "metadata": {},
   "outputs": [
    {
     "data": {
      "text/plain": [
       "'d:\\\\Python Hub\\\\MLOPS\\\\End-to-End-ML-Approach-to-Wine-Quality-Prediction-with-MLflow\\\\research'"
      ]
     },
     "execution_count": 5,
     "metadata": {},
     "output_type": "execute_result"
    }
   ],
   "source": [
    "import os\n",
    "%pwd"
   ]
  },
  {
   "cell_type": "code",
   "execution_count": 6,
   "metadata": {},
   "outputs": [],
   "source": [
    "os.chdir(\"../\")"
   ]
  },
  {
   "cell_type": "code",
   "execution_count": 7,
   "metadata": {},
   "outputs": [
    {
     "data": {
      "text/plain": [
       "'d:\\\\Python Hub\\\\MLOPS\\\\End-to-End-ML-Approach-to-Wine-Quality-Prediction-with-MLflow'"
      ]
     },
     "execution_count": 7,
     "metadata": {},
     "output_type": "execute_result"
    }
   ],
   "source": [
    "%pwd"
   ]
  },
  {
   "cell_type": "code",
   "execution_count": 8,
   "metadata": {},
   "outputs": [],
   "source": [
    "from dataclasses import dataclass\n",
    "from pathlib import Path\n",
    "\n",
    "@dataclass(frozen=True)\n",
    "class ModelTrainerConfig:\n",
    "    root_dir: Path \n",
    "    train_data_path: Path\n",
    "    test_data_path: Path\n",
    "    model_name: str \n",
    "    alpha: float \n",
    "    l1_ratio: float \n",
    "    target_column: str "
   ]
  },
  {
   "cell_type": "code",
   "execution_count": 9,
   "metadata": {},
   "outputs": [],
   "source": [
    "from MLproject.constants import * \n",
    "from MLproject.utils.common import read_yaml, create_directories"
   ]
  },
  {
   "cell_type": "code",
   "execution_count": 19,
   "metadata": {},
   "outputs": [],
   "source": [
    "class ConfigurationManager:\n",
    "    def __init__(self, \n",
    "                 config_filepath = CONFIG_FILE_PATH,\n",
    "                 schema_filepath = SCHEMA_FILE_PATH,\n",
    "                 params_filepath = PARAMS_FILE_PATH):\n",
    "        \n",
    "        self.config = read_yaml(config_filepath)\n",
    "        self.schema = read_yaml(schema_filepath)\n",
    "        self.params = read_yaml(params_filepath)\n",
    "\n",
    "        create_directories([self.config.artifacts_root])\n",
    "\n",
    "\n",
    "    def get_model_trainer_config(self) -> ModelTrainerConfig:\n",
    "        config = self.config.model_trainer \n",
    "        params = self.params.ElasticNet \n",
    "        schema = self.schema.TARGET_COLUMN \n",
    "\n",
    "        create_directories([config.root_dir])\n",
    "\n",
    "        model_trainer_config = ModelTrainerConfig(\n",
    "            root_dir= config.root_dir,\n",
    "            train_data_path= config.train_data_path,\n",
    "            test_data_path= config.test_data_path,\n",
    "            model_name= config.model_name,\n",
    "            alpha= params.alpha,\n",
    "            l1_ratio= params.l1_ratio,\n",
    "            target_column= schema.name \n",
    "        )\n",
    "\n",
    "        return model_trainer_config\n",
    "    "
   ]
  },
  {
   "cell_type": "code",
   "execution_count": 12,
   "metadata": {},
   "outputs": [],
   "source": [
    "import pandas as pd \n",
    "import numpy as np \n",
    "import os \n",
    "from MLproject import logger \n",
    "from sklearn.linear_model import ElasticNet\n",
    "import joblib"
   ]
  },
  {
   "cell_type": "code",
   "execution_count": 16,
   "metadata": {},
   "outputs": [],
   "source": [
    "class ModelTrainer:\n",
    "    def __init__(self, config : ModelTrainerConfig ):\n",
    "        self.config = config \n",
    "\n",
    "    def train(self):\n",
    "        train_data = np.load(self.config.train_data_path)\n",
    "        test_data = np.load(self.config.test_data_path)\n",
    "\n",
    "        logger.info(\"Train and Test data loaded successfully\")\n",
    "\n",
    "        logger.info(\"Separate features (X) and target variable (y)\")\n",
    "        X_train = train_data[:, :-1]\n",
    "        y_train = train_data[:, -1]\n",
    "\n",
    "        X_test = test_data[:, :-1]\n",
    "        y_test = test_data[:, -1]\n",
    "\n",
    "        lr = ElasticNet(alpha=self.config.alpha, l1_ratio=self.config.l1_ratio, random_state=42)\n",
    "        lr.fit(X_train, y_train)\n",
    "        logger.info(\"Train the model on the training data\")\n",
    "\n",
    "        joblib.dump(lr, os.path.join(self.config.root_dir, self.config.model_name)) \n",
    "        logger.info(\"Save the trained model to a file using joblib\")      \n"
   ]
  },
  {
   "cell_type": "code",
   "execution_count": 17,
   "metadata": {},
   "outputs": [
    {
     "name": "stdout",
     "output_type": "stream",
     "text": [
      "[ 2023-12-28 12:01:31,993:  INFO:  common: 33:  YAML file 'config\\config.yaml' loaded successfully]\n",
      "[ 2023-12-28 12:01:32,008:  INFO:  common: 33:  YAML file 'schema.yaml' loaded successfully]\n",
      "[ 2023-12-28 12:01:32,012:  INFO:  common: 33:  YAML file 'params.yaml' loaded successfully]\n",
      "[ 2023-12-28 12:01:32,014:  INFO:  common: 53:  Created directory at : artifacts]\n",
      "[ 2023-12-28 12:01:32,017:  INFO:  common: 53:  Created directory at : artifacts/model_trainer]\n",
      "[ 2023-12-28 12:01:32,023:  INFO:  2586983220: 9:  Train and Test data loaded successfully]\n",
      "[ 2023-12-28 12:01:32,025:  INFO:  2586983220: 11:  Separate features (X) and target variable (y)]\n",
      "[ 2023-12-28 12:01:32,033:  INFO:  2586983220: 20:  Train the model on the training data]\n",
      "[ 2023-12-28 12:01:32,036:  INFO:  2586983220: 23:  Save the trained model to a file using joblib]\n"
     ]
    }
   ],
   "source": [
    "try:\n",
    "    config = ConfigurationManager()\n",
    "    model_trainer_config = config.get_model_trainer_config()\n",
    "    model_trainer = ModelTrainer(config=model_trainer_config)\n",
    "    model_trainer.train()\n",
    "except Exception as e:\n",
    "    logger.error(f\"Error during model training: {e}\")\n",
    "    raise e     "
   ]
  },
  {
   "cell_type": "code",
   "execution_count": null,
   "metadata": {},
   "outputs": [],
   "source": []
  },
  {
   "cell_type": "code",
   "execution_count": null,
   "metadata": {},
   "outputs": [],
   "source": []
  }
 ],
 "metadata": {
  "kernelspec": {
   "display_name": "newenv",
   "language": "python",
   "name": "python3"
  },
  "language_info": {
   "codemirror_mode": {
    "name": "ipython",
    "version": 3
   },
   "file_extension": ".py",
   "mimetype": "text/x-python",
   "name": "python",
   "nbconvert_exporter": "python",
   "pygments_lexer": "ipython3",
   "version": "3.11.6"
  }
 },
 "nbformat": 4,
 "nbformat_minor": 2
}
